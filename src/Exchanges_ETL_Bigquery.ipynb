{
 "cells": [
  {
   "cell_type": "code",
   "execution_count": null,
   "id": "e2d64f27",
   "metadata": {},
   "outputs": [],
   "source": [
    "import os\n",
    "\n",
    "import pyspark\n",
    "from pyspark.sql import SparkSession\n",
    "from pyspark.conf import SparkConf\n",
    "from pyspark.context import SparkContext\n",
    "import pyspark.sql.functions as F\n",
    "from google.cloud import bigquery\n",
    "\n",
    "from config import EXCHANGE_TOPIC, CREDENTIALS_FILE, GCS_BUCKET, PROJECT_ID"
   ]
  },
  {
   "cell_type": "code",
   "execution_count": null,
   "id": "c3007f1c",
   "metadata": {},
   "outputs": [],
   "source": [
    "os.environ[\"GOOGLE_APPLICATION_CREDENTIALS\"] = CREDENTIALS_FILE\n",
    "\n",
    "pyspark_version = pyspark.__version__"
   ]
  },
  {
   "cell_type": "code",
   "execution_count": null,
   "id": "106241cd",
   "metadata": {},
   "outputs": [],
   "source": [
    "dataset_id = \"assets_v2\" \n",
    "table_id = \"exchange_all\"\n"
   ]
  },
  {
   "cell_type": "code",
   "execution_count": null,
   "id": "fd2de064",
   "metadata": {},
   "outputs": [],
   "source": [
    "conf = SparkConf() \\\n",
    "    .setMaster('local[*]') \\\n",
    "    .setAppName('CryptoCurrencyConsumer') \\\n",
    "    .set(\"spark.jars\", \"/opt/homebrew/lib/gcs-connector-hadoop3-2.2.5.jar\") \\\n",
    "    .set(\"spark.hadoop.google.cloud.auth.service.account.enable\", \"true\") \\\n",
    "    .set(\"spark.hadoop.google.cloud.auth.service.account.json.keyfile\", CREDENTIALS_FILE) \\\n",
    "    .set(\"spark.jars.packages\", f\"org.apache.spark:spark-sql-kafka-0-10_2.12:{pyspark_version},com.google.cloud.spark:spark-bigquery-with-dependencies_2.12:0.15.1-beta\")"
   ]
  },
  {
   "cell_type": "code",
   "execution_count": null,
   "id": "57022bff",
   "metadata": {},
   "outputs": [],
   "source": [
    "sc = SparkContext(conf=conf)\n",
    "\n",
    "hadoop_conf = sc._jsc.hadoopConfiguration()\n",
    "\n",
    "hadoop_conf.set(\"fs.AbstractFileSystem.gs.impl\",  \"com.google.cloud.hadoop.fs.gcs.GoogleHadoopFS\")\n",
    "hadoop_conf.set(\"fs.gs.impl\", \"com.google.cloud.hadoop.fs.gcs.GoogleHadoopFileSystem\")\n",
    "hadoop_conf.set(\"fs.gs.auth.service.account.json.keyfile\", CREDENTIALS_FILE)\n",
    "hadoop_conf.set(\"fs.gs.auth.service.account.enable\", \"true\")"
   ]
  },
  {
   "cell_type": "code",
   "execution_count": null,
   "id": "4a2a4eae",
   "metadata": {},
   "outputs": [],
   "source": [
    "spark = SparkSession \\\n",
    "    .builder \\\n",
    "    .config(conf=sc.getConf()) \\\n",
    "    .getOrCreate()"
   ]
  },
  {
   "cell_type": "code",
   "execution_count": null,
   "id": "1a335d22",
   "metadata": {},
   "outputs": [],
   "source": [
    "spark.conf.set(\"spark.sql.repl.eagerEval.enabled\", True)"
   ]
  },
  {
   "cell_type": "code",
   "execution_count": null,
   "id": "b582f093",
   "metadata": {},
   "outputs": [],
   "source": [
    "exchange = spark \\\n",
    "    .read \\\n",
    "    .format(\"kafka\") \\\n",
    "    .option(\"kafka.bootstrap.servers\", \"localhost:9092\") \\\n",
    "    .option(\"subscribe\", \"exchange-topic\") \\\n",
    "    .option(\"startingOffsets\", \"earliest\") \\\n",
    "    .load()"
   ]
  },
  {
   "cell_type": "code",
   "execution_count": null,
   "id": "224cd24f",
   "metadata": {},
   "outputs": [],
   "source": [
    "from pyspark.sql import types\n",
    "\n",
    "exchange_spark_schema = types.StructType() \\\n",
    "    .add(\"exchangeId\", types.StringType()) \\\n",
    "    .add(\"name\", types.StringType()) \\\n",
    "    .add(\"rank\", types.StringType()) \\\n",
    "    .add(\"percentTotalVolume\", types.StringType()) \\\n",
    "    .add(\"volumeUsd\", types.StringType()) \\\n",
    "    .add(\"tradingPairs\", types.StringType()) \\\n",
    "    .add(\"socket\", types.StringType())\\\n",
    "    .add(\"exchangeUrl\", types.StringType())\\\n",
    "    .add(\"updated\", types.StringType())\\\n",
    "    .add(\"timestamp\", types.StringType())"
   ]
  },
  {
   "cell_type": "code",
   "execution_count": null,
   "id": "9202d423",
   "metadata": {},
   "outputs": [],
   "source": [
    "from pyspark.sql import functions as F\n",
    "\n",
    "exchange = exchange \\\n",
    "  .select(F.from_json(F.col(\"value\").cast('STRING'),exchange_spark_schema)).alias(\"exchange\") \\\n",
    "  .select(\"exchange.from_json(CAST(value AS STRING)).*\")\n",
    "\n",
    "exchange_ts = exchange.withColumn('processing_timestamp', F.current_timestamp())"
   ]
  },
  {
   "cell_type": "code",
   "execution_count": null,
   "id": "21503a76",
   "metadata": {},
   "outputs": [],
   "source": [
    "exchange_ts.show(truncate=False)"
   ]
  },
  {
   "cell_type": "code",
   "execution_count": null,
   "id": "33e23ec6",
   "metadata": {},
   "outputs": [],
   "source": [
    "exchange_ts.write \\\n",
    "  .format(\"bigquery\") \\\n",
    "    .option(\"table\", f\"{PROJECT_ID}.{dataset_id}.{table_id}\") \\\n",
    "    .option(\"partitionField\", \"processing_timestamp\")\\\n",
    "    .option(\"clusteredFields\", \"exchangeId\")\\\n",
    "    .option(\"temporaryGcsBucket\", GCS_BUCKET) \\\n",
    "    .mode(\"append\") \\\n",
    "    .save()"
   ]
  },
  {
   "cell_type": "code",
   "execution_count": null,
   "id": "e8e71f25",
   "metadata": {},
   "outputs": [],
   "source": [
    "spark.stop()"
   ]
  }
 ],
 "metadata": {
  "kernelspec": {
   "display_name": "Python 3 (ipykernel)",
   "language": "python",
   "name": "python3"
  },
  "language_info": {
   "codemirror_mode": {
    "name": "ipython",
    "version": 3
   },
   "file_extension": ".py",
   "mimetype": "text/x-python",
   "name": "python",
   "nbconvert_exporter": "python",
   "pygments_lexer": "ipython3",
   "version": "3.11.6"
  }
 },
 "nbformat": 4,
 "nbformat_minor": 5
}
